{
 "cells": [
  {
   "cell_type": "markdown",
   "metadata": {},
   "source": [
    "# Extract Job Posts from Indeed"
   ]
  },
  {
   "cell_type": "markdown",
   "metadata": {},
   "source": [
    "Before extracting job posts from [Indeed](https://www.indeed.com/), make sure you have checked their [robots.txt](https://www.indeed.com/robots.txt) file. "
   ]
  },
  {
   "cell_type": "markdown",
   "metadata": {},
   "source": [
    "## Create a table in database"
   ]
  },
  {
   "cell_type": "code",
   "execution_count": 1,
   "metadata": {},
   "outputs": [
    {
     "name": "stderr",
     "output_type": "stream",
     "text": [
      "/home/ec2-user/anaconda3/envs/python3/lib/python3.6/site-packages/psycopg2/__init__.py:144: UserWarning: The psycopg2 wheel package will be renamed from release 2.8; in order to keep installing from binary please use \"pip install psycopg2-binary\" instead. For details see: <http://initd.org/psycopg/docs/install.html#binary-install-from-pypi>.\n",
      "  \"\"\")\n"
     ]
    }
   ],
   "source": [
    "import pandas\n",
    "import configparser\n",
    "import psycopg2"
   ]
  },
  {
   "cell_type": "markdown",
   "metadata": {},
   "source": [
    "Read the database connection info from the config.ini"
   ]
  },
  {
   "cell_type": "code",
   "execution_count": 2,
   "metadata": {},
   "outputs": [],
   "source": [
    "config = configparser.ConfigParser()\n",
    "config.read('config.ini')\n",
    "\n",
    "host = config['myaws']['host']\n",
    "db = config['myaws']['db']\n",
    "user = config['myaws']['user']\n",
    "pwd = config['myaws']['pwd']"
   ]
  },
  {
   "cell_type": "markdown",
   "metadata": {},
   "source": [
    "Establish a connection to the databas, and create a cursor."
   ]
  },
  {
   "cell_type": "code",
   "execution_count": 3,
   "metadata": {},
   "outputs": [],
   "source": [
    "conn = psycopg2.connect(host = host,\n",
    "                       user = user,\n",
    "                        password = pwd,\n",
    "                        dbname = db\n",
    "                       )\n",
    "cur = conn.cursor()"
   ]
  },
  {
   "cell_type": "markdown",
   "metadata": {},
   "source": [
    "Design the table in SQL"
   ]
  },
  {
   "cell_type": "code",
   "execution_count": 4,
   "metadata": {},
   "outputs": [],
   "source": [
    "# replace the schema and table name to your schema and table name\n",
    "table_sql = \"\"\"\n",
    "            CREATE TABLE IF NOT EXISTS gp26.indeed\n",
    "            (\n",
    "                id SERIAL,\n",
    "                job_title VARCHAR(200),\n",
    "                job_company VARCHAR(200),\n",
    "                job_loc VARCHAR(200),\n",
    "                job_salary VARCHAR(200),\n",
    "                job_summary TEXT,\n",
    "                PRIMARY KEY(id)\n",
    "            );\n",
    "\n",
    "            \"\"\""
   ]
  },
  {
   "cell_type": "markdown",
   "metadata": {},
   "source": [
    "create the table"
   ]
  },
  {
   "cell_type": "code",
   "execution_count": 5,
   "metadata": {},
   "outputs": [],
   "source": [
    "cur.execute(table_sql)\n",
    "conn.commit()"
   ]
  },
  {
   "cell_type": "markdown",
   "metadata": {},
   "source": [
    "## Request HTML\n",
    "\n",
    "[urllib.request](https://docs.python.org/3/library/urllib.request.html) makes simple HTTP requests to visit a web page and get the content via the Python standard library.\n",
    "Here we define the URL to search job pots about Intelligence analyst."
   ]
  },
  {
   "cell_type": "code",
   "execution_count": 6,
   "metadata": {},
   "outputs": [],
   "source": [
    "url = 'https://www.indeed.com/jobs?q=intelligence+analyst&start=2'"
   ]
  },
  {
   "cell_type": "code",
   "execution_count": 7,
   "metadata": {
    "scrolled": true
   },
   "outputs": [],
   "source": [
    "import urllib.request\n",
    "response = urllib.request.urlopen(url)\n",
    "html_data= response.read()\n",
    "#print(html_data.decode('utf-8'))"
   ]
  },
  {
   "cell_type": "markdown",
   "metadata": {},
   "source": [
    "# Parese HTML\n",
    "We can use the inspector tool in browsers to analyze webpages and use [beautifulsoup](https://www.crummy.com/software/BeautifulSoup/bs4/doc/) to extract webpage data.\n",
    "pip install the beautiful soup if needed. "
   ]
  },
  {
   "cell_type": "code",
   "execution_count": null,
   "metadata": {},
   "outputs": [],
   "source": [
    "!pip install beautifulsoup4"
   ]
  },
  {
   "cell_type": "code",
   "execution_count": 8,
   "metadata": {},
   "outputs": [],
   "source": [
    "from bs4 import BeautifulSoup\n",
    "soup = BeautifulSoup(html_data,'html.parser')\n",
    "#print (soup)"
   ]
  },
  {
   "cell_type": "markdown",
   "metadata": {},
   "source": [
    "Use the <code> tag.find_all(‘tag_name’, tage_attr = ‘possible_value’)</code> function to return a list of tags where the attribute equals the possible_value.\n",
    "<ul>Common attributes include:\n",
    "<li> id</li>\n",
    "<li> class<span style =\"color:red\">_</span></li>\n",
    "</ul>\n",
    "\n",
    "<ul>Common functions include:\n",
    "<li> tag.text: return the visible part of the tag</li>\n",
    "<li> tag.get(‘attribute’): return the value of the attribute of the tag</li>\n",
    "</ul>"
   ]
  },
  {
   "cell_type": "markdown",
   "metadata": {},
   "source": [
    "Since all the job posts are in the <code>div tag class = 'jobsearch-Sprep...'</code>, we need to find that div tag from the body tag."
   ]
  },
  {
   "cell_type": "code",
   "execution_count": 10,
   "metadata": {
    "scrolled": false
   },
   "outputs": [],
   "source": [
    "for table_resultsBody in soup.find_all('table', id = 'resultsBody'):\n",
    "    pass\n",
    "    #print(table_resultsBody)"
   ]
  },
  {
   "cell_type": "code",
   "execution_count": 11,
   "metadata": {
    "scrolled": true
   },
   "outputs": [],
   "source": [
    "for table_pageContent in table_resultsBody.find_all('table', id = 'pageContent'):\n",
    "    pass\n",
    "    #print(table_pageContent)"
   ]
  },
  {
   "cell_type": "code",
   "execution_count": 13,
   "metadata": {},
   "outputs": [],
   "source": [
    "for td_resultsCol in table_pageContent.find_all('td', id = 'resultsCol'):\n",
    "    pass\n",
    "    #print(td_resultsCol)"
   ]
  },
  {
   "cell_type": "markdown",
   "metadata": {},
   "source": [
    "## Save Data to Database\n",
    "Now we find the div tag contains the job posts. We need to identify the job title, company, ratings, reviews, salary, and summary. \n",
    "We can save those records to our table in the database."
   ]
  },
  {
   "cell_type": "code",
   "execution_count": 14,
   "metadata": {},
   "outputs": [],
   "source": [
    "#  identify the job title, company, ratings, reviews, salary, and summary\n",
    "for div_row in td_resultsCol.find_all('div', class_='jobsearch-SerpJobCard unifiedRow row result'):\n",
    "\n",
    "    # find job title\n",
    "    job_title = None\n",
    "    job_company  = None\n",
    "    job_rating = None\n",
    "    job_loc = None\n",
    "    job_salary = None\n",
    "    job_summary = None\n",
    "    for h2_title in div_row.find_all('h2', class_ = 'title'):\n",
    "       \n",
    "        job_title = h2_title.a.text.strip().replace(\"'\",\"_\")\n",
    "   \n",
    "    for div_dsc in div_row.find_all('div', class_ = 'sjcl'):\n",
    "        \n",
    "        #find company name\n",
    "        for span_company in div_dsc.find_all('span', class_ = 'company'):\n",
    "            job_company = span_company.text.strip().replace(\"'\",\"_\")\n",
    "        \n",
    "        # find location\n",
    "        for div_loc in div_dsc.find_all('div', class_ = 'location accessible-contrast-color-location'):\n",
    "            job_loc = div_loc.text.strip().replace(\"'\",\"_\")\n",
    "    \n",
    "    # find salary\n",
    "    for div_salary in div_row.find_all('div',class_ ='salarySnippet'):\n",
    "        job_salary = div_salary.text.strip().replace(\"'\",\"_\")\n",
    "    \n",
    "    #find summary\n",
    "    for div_summary in div_row.find_all('div', class_ = 'summary'):\n",
    "        job_summary = div_summary.text.strip().replace(\"'\",\"_\")\n",
    "        \n",
    "    # insert into database\n",
    "    \n",
    "    sql_insert = \"\"\"\n",
    "                insert into gp26.indeed(job_title,job_company,job_loc,job_salary,job_summary)\n",
    "                values('{}','{}','{}','{}','{}')            \n",
    "                \"\"\".format(job_title,job_company,job_loc,job_salary,job_summary)\n",
    "\n",
    "    cur.execute(sql_insert)\n",
    "    conn.commit()"
   ]
  },
  {
   "cell_type": "markdown",
   "metadata": {},
   "source": [
    "## View the Table"
   ]
  },
  {
   "cell_type": "code",
   "execution_count": 17,
   "metadata": {
    "scrolled": false
   },
   "outputs": [
    {
     "data": {
      "text/html": [
       "<div>\n",
       "<style scoped>\n",
       "    .dataframe tbody tr th:only-of-type {\n",
       "        vertical-align: middle;\n",
       "    }\n",
       "\n",
       "    .dataframe tbody tr th {\n",
       "        vertical-align: top;\n",
       "    }\n",
       "\n",
       "    .dataframe thead th {\n",
       "        text-align: right;\n",
       "    }\n",
       "</style>\n",
       "<table border=\"1\" class=\"dataframe\">\n",
       "  <thead>\n",
       "    <tr style=\"text-align: right;\">\n",
       "      <th></th>\n",
       "      <th>id</th>\n",
       "      <th>job_title</th>\n",
       "      <th>job_company</th>\n",
       "      <th>job_loc</th>\n",
       "      <th>job_salary</th>\n",
       "      <th>job_summary</th>\n",
       "    </tr>\n",
       "  </thead>\n",
       "  <tbody>\n",
       "    <tr>\n",
       "      <th>0</th>\n",
       "      <td>1</td>\n",
       "      <td>Intelligence Analyst Intern</td>\n",
       "      <td>Everbridge</td>\n",
       "      <td>None</td>\n",
       "      <td>None</td>\n",
       "      <td>Conduct research into existing risk intelligen...</td>\n",
       "    </tr>\n",
       "    <tr>\n",
       "      <th>1</th>\n",
       "      <td>2</td>\n",
       "      <td>Global Intelligence Analyst</td>\n",
       "      <td>AlertMedia</td>\n",
       "      <td>None</td>\n",
       "      <td>None</td>\n",
       "      <td>You have previous job experience in the news m...</td>\n",
       "    </tr>\n",
       "    <tr>\n",
       "      <th>2</th>\n",
       "      <td>3</td>\n",
       "      <td>Open Source Intelligence Analyst</td>\n",
       "      <td>University of Texas at Austin</td>\n",
       "      <td>None</td>\n",
       "      <td>None</td>\n",
       "      <td>Bachelor’s degree in any discipline with three...</td>\n",
       "    </tr>\n",
       "    <tr>\n",
       "      <th>3</th>\n",
       "      <td>4</td>\n",
       "      <td>Intelligence Analyst</td>\n",
       "      <td>Northrop Grumman</td>\n",
       "      <td>None</td>\n",
       "      <td>None</td>\n",
       "      <td>Successful candidates in this position will co...</td>\n",
       "    </tr>\n",
       "    <tr>\n",
       "      <th>4</th>\n",
       "      <td>5</td>\n",
       "      <td>Intelligence Analyst (Remote)</td>\n",
       "      <td>CrowdStrike</td>\n",
       "      <td>None</td>\n",
       "      <td>None</td>\n",
       "      <td>Undergraduate degree, military training or rel...</td>\n",
       "    </tr>\n",
       "    <tr>\n",
       "      <th>5</th>\n",
       "      <td>6</td>\n",
       "      <td>Linguist/Language Analyst (Russian/Chinese)</td>\n",
       "      <td>National Security Agency</td>\n",
       "      <td>None</td>\n",
       "      <td>$64,009 - $99,741 a year</td>\n",
       "      <td>Prior military without a degree but with langu...</td>\n",
       "    </tr>\n",
       "    <tr>\n",
       "      <th>6</th>\n",
       "      <td>7</td>\n",
       "      <td>Threat Intelligence Analyst, Intel Synthesis, ...</td>\n",
       "      <td>Google</td>\n",
       "      <td>None</td>\n",
       "      <td>None</td>\n",
       "      <td>Ability to work effectively cross-functionally...</td>\n",
       "    </tr>\n",
       "    <tr>\n",
       "      <th>7</th>\n",
       "      <td>8</td>\n",
       "      <td>2020121 Geospatial Analyst $215,000.00</td>\n",
       "      <td>B4CORP</td>\n",
       "      <td>McLean, VA</td>\n",
       "      <td>Up to $2,000 a week</td>\n",
       "      <td>100% employer matched contribution up to 6% of...</td>\n",
       "    </tr>\n",
       "    <tr>\n",
       "      <th>8</th>\n",
       "      <td>9</td>\n",
       "      <td>Economic Analyst</td>\n",
       "      <td>Central Intelligence Agency</td>\n",
       "      <td>None</td>\n",
       "      <td>$57,495 - $157,709 a year</td>\n",
       "      <td>Bachelor_s or Master_s degree in one of the fo...</td>\n",
       "    </tr>\n",
       "    <tr>\n",
       "      <th>9</th>\n",
       "      <td>10</td>\n",
       "      <td>INTELLIGENCE ANALYST</td>\n",
       "      <td>Intellistar</td>\n",
       "      <td>None</td>\n",
       "      <td>None</td>\n",
       "      <td>Associates degree or an additional four years ...</td>\n",
       "    </tr>\n",
       "    <tr>\n",
       "      <th>10</th>\n",
       "      <td>11</td>\n",
       "      <td>Looker Data Analyst (Fully Remote)</td>\n",
       "      <td>Data Driven</td>\n",
       "      <td>None</td>\n",
       "      <td>$55,000 - $70,000 a year</td>\n",
       "      <td>You have prior experience with a business inte...</td>\n",
       "    </tr>\n",
       "    <tr>\n",
       "      <th>11</th>\n",
       "      <td>12</td>\n",
       "      <td>Intelligence Operations Specialist</td>\n",
       "      <td>Transportation Security Administration</td>\n",
       "      <td>None</td>\n",
       "      <td>$52,700 - $99,586 a year</td>\n",
       "      <td>Advanced technical knowledge of intelligence c...</td>\n",
       "    </tr>\n",
       "    <tr>\n",
       "      <th>12</th>\n",
       "      <td>13</td>\n",
       "      <td>Business Intelligence Analyst</td>\n",
       "      <td>Onware Business Solutions Inc.</td>\n",
       "      <td>None</td>\n",
       "      <td>$60,000 - $100,000 a year</td>\n",
       "      <td>Prior experience with business intelligence or...</td>\n",
       "    </tr>\n",
       "    <tr>\n",
       "      <th>13</th>\n",
       "      <td>14</td>\n",
       "      <td>Analyst, Global Security Operations Center (GSOC)</td>\n",
       "      <td>Confidential</td>\n",
       "      <td>Scottsdale, AZ 85258 (North Scottsdale area)</td>\n",
       "      <td>$23 - $26 an hour</td>\n",
       "      <td>The GSOC uses a variety of tools, such as glob...</td>\n",
       "    </tr>\n",
       "    <tr>\n",
       "      <th>14</th>\n",
       "      <td>15</td>\n",
       "      <td>Research Analyst</td>\n",
       "      <td>Texas A&amp;M Foundation</td>\n",
       "      <td>None</td>\n",
       "      <td>None</td>\n",
       "      <td>Review push technology and print publications ...</td>\n",
       "    </tr>\n",
       "  </tbody>\n",
       "</table>\n",
       "</div>"
      ],
      "text/plain": [
       "    id                                          job_title  \\\n",
       "0    1                        Intelligence Analyst Intern   \n",
       "1    2                        Global Intelligence Analyst   \n",
       "2    3                   Open Source Intelligence Analyst   \n",
       "3    4                               Intelligence Analyst   \n",
       "4    5                      Intelligence Analyst (Remote)   \n",
       "5    6        Linguist/Language Analyst (Russian/Chinese)   \n",
       "6    7  Threat Intelligence Analyst, Intel Synthesis, ...   \n",
       "7    8             2020121 Geospatial Analyst $215,000.00   \n",
       "8    9                                   Economic Analyst   \n",
       "9   10                               INTELLIGENCE ANALYST   \n",
       "10  11                 Looker Data Analyst (Fully Remote)   \n",
       "11  12                 Intelligence Operations Specialist   \n",
       "12  13                      Business Intelligence Analyst   \n",
       "13  14  Analyst, Global Security Operations Center (GSOC)   \n",
       "14  15                                   Research Analyst   \n",
       "\n",
       "                               job_company  \\\n",
       "0                               Everbridge   \n",
       "1                               AlertMedia   \n",
       "2            University of Texas at Austin   \n",
       "3                         Northrop Grumman   \n",
       "4                              CrowdStrike   \n",
       "5                 National Security Agency   \n",
       "6                                   Google   \n",
       "7                                   B4CORP   \n",
       "8              Central Intelligence Agency   \n",
       "9                              Intellistar   \n",
       "10                             Data Driven   \n",
       "11  Transportation Security Administration   \n",
       "12          Onware Business Solutions Inc.   \n",
       "13                            Confidential   \n",
       "14                    Texas A&M Foundation   \n",
       "\n",
       "                                         job_loc                 job_salary  \\\n",
       "0                                           None                       None   \n",
       "1                                           None                       None   \n",
       "2                                           None                       None   \n",
       "3                                           None                       None   \n",
       "4                                           None                       None   \n",
       "5                                           None   $64,009 - $99,741 a year   \n",
       "6                                           None                       None   \n",
       "7                                     McLean, VA        Up to $2,000 a week   \n",
       "8                                           None  $57,495 - $157,709 a year   \n",
       "9                                           None                       None   \n",
       "10                                          None   $55,000 - $70,000 a year   \n",
       "11                                          None   $52,700 - $99,586 a year   \n",
       "12                                          None  $60,000 - $100,000 a year   \n",
       "13  Scottsdale, AZ 85258 (North Scottsdale area)          $23 - $26 an hour   \n",
       "14                                          None                       None   \n",
       "\n",
       "                                          job_summary  \n",
       "0   Conduct research into existing risk intelligen...  \n",
       "1   You have previous job experience in the news m...  \n",
       "2   Bachelor’s degree in any discipline with three...  \n",
       "3   Successful candidates in this position will co...  \n",
       "4   Undergraduate degree, military training or rel...  \n",
       "5   Prior military without a degree but with langu...  \n",
       "6   Ability to work effectively cross-functionally...  \n",
       "7   100% employer matched contribution up to 6% of...  \n",
       "8   Bachelor_s or Master_s degree in one of the fo...  \n",
       "9   Associates degree or an additional four years ...  \n",
       "10  You have prior experience with a business inte...  \n",
       "11  Advanced technical knowledge of intelligence c...  \n",
       "12  Prior experience with business intelligence or...  \n",
       "13  The GSOC uses a variety of tools, such as glob...  \n",
       "14  Review push technology and print publications ...  "
      ]
     },
     "execution_count": 17,
     "metadata": {},
     "output_type": "execute_result"
    }
   ],
   "source": [
    "df = pandas.read_sql_query('select * from gp26.indeed', conn)\n",
    "df[:]"
   ]
  },
  {
   "cell_type": "code",
   "execution_count": 18,
   "metadata": {},
   "outputs": [],
   "source": [
    "cur.close()\n",
    "conn.close()"
   ]
  },
  {
   "cell_type": "code",
   "execution_count": null,
   "metadata": {},
   "outputs": [],
   "source": []
  }
 ],
 "metadata": {
  "kernelspec": {
   "display_name": "conda_python3",
   "language": "python",
   "name": "conda_python3"
  },
  "language_info": {
   "codemirror_mode": {
    "name": "ipython",
    "version": 3
   },
   "file_extension": ".py",
   "mimetype": "text/x-python",
   "name": "python",
   "nbconvert_exporter": "python",
   "pygments_lexer": "ipython3",
   "version": "3.6.10"
  }
 },
 "nbformat": 4,
 "nbformat_minor": 2
}
